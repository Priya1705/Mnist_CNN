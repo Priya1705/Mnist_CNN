{
 "cells": [
  {
   "cell_type": "code",
   "execution_count": 1,
   "metadata": {
    "id": "KQqTBzG5UIby"
   },
   "outputs": [],
   "source": [
    "import tensorflow as tf\n",
    "from tensorflow import keras\n",
    "import numpy as np"
   ]
  },
  {
   "cell_type": "code",
   "execution_count": 2,
   "metadata": {
    "id": "jSbvrb_IUmGS"
   },
   "outputs": [],
   "source": [
    "fashion_mnist=keras.datasets.fashion_mnist"
   ]
  },
  {
   "cell_type": "code",
   "execution_count": 3,
   "metadata": {
    "colab": {
     "base_uri": "https://localhost:8080/"
    },
    "id": "-hCd4DFvUpDe",
    "outputId": "7813e9af-09e1-47c7-9680-9a9ebbc45c59"
   },
   "outputs": [
    {
     "name": "stdout",
     "output_type": "stream",
     "text": [
      "Downloading data from https://storage.googleapis.com/tensorflow/tf-keras-datasets/train-labels-idx1-ubyte.gz\n",
      "32768/29515 [=================================] - 0s 0us/step\n",
      "Downloading data from https://storage.googleapis.com/tensorflow/tf-keras-datasets/train-images-idx3-ubyte.gz\n",
      "26427392/26421880 [==============================] - 1s 0us/step\n",
      "Downloading data from https://storage.googleapis.com/tensorflow/tf-keras-datasets/t10k-labels-idx1-ubyte.gz\n",
      "8192/5148 [===============================================] - 0s 0us/step\n",
      "Downloading data from https://storage.googleapis.com/tensorflow/tf-keras-datasets/t10k-images-idx3-ubyte.gz\n",
      "4423680/4422102 [==============================] - 0s 0us/step\n"
     ]
    }
   ],
   "source": [
    "(train_images,train_labels),(test_images,test_labels)=fashion_mnist.load_data()"
   ]
  },
  {
   "cell_type": "code",
   "execution_count": 4,
   "metadata": {
    "id": "OlZRG6Y3Uufb"
   },
   "outputs": [],
   "source": [
    "train_images=train_images/255.0\n",
    "test_images=test_images/255.0"
   ]
  },
  {
   "cell_type": "code",
   "execution_count": 5,
   "metadata": {
    "colab": {
     "base_uri": "https://localhost:8080/"
    },
    "id": "oXuY57w-UzBr",
    "outputId": "16511e6f-a9cd-44a2-aea8-dfffeb0d893e"
   },
   "outputs": [
    {
     "data": {
      "text/plain": [
       "(28, 28)"
      ]
     },
     "execution_count": 5,
     "metadata": {},
     "output_type": "execute_result"
    }
   ],
   "source": [
    "train_images[0].shape"
   ]
  },
  {
   "cell_type": "code",
   "execution_count": 6,
   "metadata": {
    "id": "NUsSinHQU1FU"
   },
   "outputs": [],
   "source": [
    "train_images=train_images.reshape(len(train_images),28,28,1)\n",
    "test_images=test_images.reshape(len(test_images),28,28,1)"
   ]
  },
  {
   "cell_type": "code",
   "execution_count": 11,
   "metadata": {
    "id": "i8Ua3wZJVGHH"
   },
   "outputs": [],
   "source": [
    "def build_model(hp):  \n",
    "    model = keras.Sequential([\n",
    "    keras.layers.Conv2D(\n",
    "        filters=hp.Int('conv_1_filter', min_value=32, max_value=128, step=16),\n",
    "        kernel_size=hp.Choice('conv_1_kernel', values = [3,5]),\n",
    "        activation='relu',\n",
    "        input_shape=(28,28,1)\n",
    "    ),\n",
    "    keras.layers.Conv2D(\n",
    "        filters=hp.Int('conv_2_filter', min_value=32, max_value=64, step=16),\n",
    "        kernel_size=hp.Choice('conv_2_kernel', values = [3,5]),\n",
    "        activation='relu'\n",
    "    ),\n",
    "    keras.layers.Flatten(),\n",
    "    keras.layers.Dense(\n",
    "        units=hp.Int('dense_1_units', min_value=32, max_value=128, step=16),\n",
    "        activation='relu'\n",
    "    ),\n",
    "    keras.layers.Dense(10, activation='softmax')\n",
    "  ])\n",
    "  \n",
    "    model.compile(optimizer=keras.optimizers.Adam(hp.Choice('learning_rate', values=[1e-2, 1e-3])),\n",
    "              loss='sparse_categorical_crossentropy',\n",
    "              metrics=['accuracy'])\n",
    "  \n",
    "    return model"
   ]
  },
  {
   "cell_type": "code",
   "execution_count": 13,
   "metadata": {
    "collapsed": true,
    "id": "Egzk8QQqWJ58"
   },
   "outputs": [
    {
     "name": "stdout",
     "output_type": "stream",
     "text": [
      "Requirement already satisfied: keras-tuner in c:\\users\\priyayadav\\appdata\\local\\programs\\python\\python39\\lib\\site-packages (1.0.3)\n",
      "Requirement already satisfied: requests in c:\\users\\priyayadav\\appdata\\local\\programs\\python\\python39\\lib\\site-packages (from keras-tuner) (2.25.0)\n",
      "Requirement already satisfied: numpy in c:\\users\\priyayadav\\appdata\\local\\programs\\python\\python39\\lib\\site-packages (from keras-tuner) (1.19.4)\n",
      "Requirement already satisfied: packaging in c:\\users\\priyayadav\\appdata\\local\\programs\\python\\python39\\lib\\site-packages (from keras-tuner) (20.4)\n",
      "Requirement already satisfied: ipython in c:\\users\\priyayadav\\appdata\\local\\programs\\python\\python39\\lib\\site-packages (from keras-tuner) (7.19.0)\n",
      "Requirement already satisfied: scipy in c:\\users\\priyayadav\\appdata\\local\\programs\\python\\python39\\lib\\site-packages (from keras-tuner) (1.5.4)\n",
      "Requirement already satisfied: tensorboard in c:\\users\\priyayadav\\appdata\\local\\programs\\python\\python39\\lib\\site-packages (from keras-tuner) (2.5.0)\n",
      "Requirement already satisfied: kt-legacy in c:\\users\\priyayadav\\appdata\\local\\programs\\python\\python39\\lib\\site-packages (from keras-tuner) (1.0.3)\n",
      "Requirement already satisfied: traitlets>=4.2 in c:\\users\\priyayadav\\appdata\\local\\programs\\python\\python39\\lib\\site-packages (from ipython->keras-tuner) (5.0.5)\n",
      "Requirement already satisfied: colorama in c:\\users\\priyayadav\\appdata\\local\\programs\\python\\python39\\lib\\site-packages (from ipython->keras-tuner) (0.4.4)\n",
      "Requirement already satisfied: setuptools>=18.5 in c:\\users\\priyayadav\\appdata\\local\\programs\\python\\python39\\lib\\site-packages (from ipython->keras-tuner) (49.2.1)\n",
      "Requirement already satisfied: prompt-toolkit!=3.0.0,!=3.0.1,<3.1.0,>=2.0.0 in c:\\users\\priyayadav\\appdata\\local\\programs\\python\\python39\\lib\\site-packages (from ipython->keras-tuner) (3.0.8)\n",
      "Requirement already satisfied: backcall in c:\\users\\priyayadav\\appdata\\local\\programs\\python\\python39\\lib\\site-packages (from ipython->keras-tuner) (0.2.0)\n",
      "Requirement already satisfied: jedi>=0.10 in c:\\users\\priyayadav\\appdata\\local\\programs\\python\\python39\\lib\\site-packages (from ipython->keras-tuner) (0.17.2)\n",
      "Requirement already satisfied: decorator in c:\\users\\priyayadav\\appdata\\local\\programs\\python\\python39\\lib\\site-packages (from ipython->keras-tuner) (4.4.2)\n",
      "Requirement already satisfied: pygments in c:\\users\\priyayadav\\appdata\\local\\programs\\python\\python39\\lib\\site-packages (from ipython->keras-tuner) (2.7.2)\n",
      "Requirement already satisfied: pickleshare in c:\\users\\priyayadav\\appdata\\local\\programs\\python\\python39\\lib\\site-packages (from ipython->keras-tuner) (0.7.5)\n",
      "Requirement already satisfied: parso<0.8.0,>=0.7.0 in c:\\users\\priyayadav\\appdata\\local\\programs\\python\\python39\\lib\\site-packages (from jedi>=0.10->ipython->keras-tuner) (0.7.1)\n",
      "Requirement already satisfied: wcwidth in c:\\users\\priyayadav\\appdata\\local\\programs\\python\\python39\\lib\\site-packages (from prompt-toolkit!=3.0.0,!=3.0.1,<3.1.0,>=2.0.0->ipython->keras-tuner) (0.2.5)\n",
      "Requirement already satisfied: ipython-genutils in c:\\users\\priyayadav\\appdata\\local\\programs\\python\\python39\\lib\\site-packages (from traitlets>=4.2->ipython->keras-tuner) (0.2.0)\n",
      "Requirement already satisfied: pyparsing>=2.0.2 in c:\\users\\priyayadav\\appdata\\local\\programs\\python\\python39\\lib\\site-packages (from packaging->keras-tuner) (2.4.7)\n",
      "Requirement already satisfied: six in c:\\users\\priyayadav\\appdata\\local\\programs\\python\\python39\\lib\\site-packages (from packaging->keras-tuner) (1.15.0)\n",
      "Requirement already satisfied: idna<3,>=2.5 in c:\\users\\priyayadav\\appdata\\local\\programs\\python\\python39\\lib\\site-packages (from requests->keras-tuner) (2.10)\n",
      "Requirement already satisfied: urllib3<1.27,>=1.21.1 in c:\\users\\priyayadav\\appdata\\local\\programs\\python\\python39\\lib\\site-packages (from requests->keras-tuner) (1.26.2)\n",
      "Requirement already satisfied: certifi>=2017.4.17 in c:\\users\\priyayadav\\appdata\\local\\programs\\python\\python39\\lib\\site-packages (from requests->keras-tuner) (2020.12.5)\n",
      "Requirement already satisfied: chardet<4,>=3.0.2 in c:\\users\\priyayadav\\appdata\\local\\programs\\python\\python39\\lib\\site-packages (from requests->keras-tuner) (3.0.4)\n",
      "Requirement already satisfied: werkzeug>=0.11.15 in c:\\users\\priyayadav\\appdata\\local\\programs\\python\\python39\\lib\\site-packages (from tensorboard->keras-tuner) (2.0.1)\n",
      "Requirement already satisfied: absl-py>=0.4 in c:\\users\\priyayadav\\appdata\\local\\programs\\python\\python39\\lib\\site-packages (from tensorboard->keras-tuner) (0.13.0)\n",
      "Requirement already satisfied: google-auth-oauthlib<0.5,>=0.4.1 in c:\\users\\priyayadav\\appdata\\local\\programs\\python\\python39\\lib\\site-packages (from tensorboard->keras-tuner) (0.4.4)\n",
      "Requirement already satisfied: google-auth<2,>=1.6.3 in c:\\users\\priyayadav\\appdata\\local\\programs\\python\\python39\\lib\\site-packages (from tensorboard->keras-tuner) (1.32.1)\n",
      "Requirement already satisfied: tensorboard-plugin-wit>=1.6.0 in c:\\users\\priyayadav\\appdata\\local\\programs\\python\\python39\\lib\\site-packages (from tensorboard->keras-tuner) (1.8.0)\n",
      "Requirement already satisfied: wheel>=0.26 in c:\\users\\priyayadav\\appdata\\local\\programs\\python\\python39\\lib\\site-packages (from tensorboard->keras-tuner) (0.36.2)\n",
      "Requirement already satisfied: protobuf>=3.6.0 in c:\\users\\priyayadav\\appdata\\local\\programs\\python\\python39\\lib\\site-packages (from tensorboard->keras-tuner) (3.17.3)\n",
      "Requirement already satisfied: markdown>=2.6.8 in c:\\users\\priyayadav\\appdata\\local\\programs\\python\\python39\\lib\\site-packages (from tensorboard->keras-tuner) (3.3.4)\n",
      "Requirement already satisfied: tensorboard-data-server<0.7.0,>=0.6.0 in c:\\users\\priyayadav\\appdata\\local\\programs\\python\\python39\\lib\\site-packages (from tensorboard->keras-tuner) (0.6.1)\n",
      "Requirement already satisfied: grpcio>=1.24.3 in c:\\users\\priyayadav\\appdata\\local\\programs\\python\\python39\\lib\\site-packages (from tensorboard->keras-tuner) (1.34.1)\n",
      "Requirement already satisfied: cachetools<5.0,>=2.0.0 in c:\\users\\priyayadav\\appdata\\local\\programs\\python\\python39\\lib\\site-packages (from google-auth<2,>=1.6.3->tensorboard->keras-tuner) (4.2.2)\n",
      "Requirement already satisfied: pyasn1-modules>=0.2.1 in c:\\users\\priyayadav\\appdata\\local\\programs\\python\\python39\\lib\\site-packages (from google-auth<2,>=1.6.3->tensorboard->keras-tuner) (0.2.8)\n",
      "Requirement already satisfied: rsa<5,>=3.1.4 in c:\\users\\priyayadav\\appdata\\local\\programs\\python\\python39\\lib\\site-packages (from google-auth<2,>=1.6.3->tensorboard->keras-tuner) (4.7.2)\n",
      "Requirement already satisfied: requests-oauthlib>=0.7.0 in c:\\users\\priyayadav\\appdata\\local\\programs\\python\\python39\\lib\\site-packages (from google-auth-oauthlib<0.5,>=0.4.1->tensorboard->keras-tuner) (1.3.0)\n",
      "Requirement already satisfied: pyasn1<0.5.0,>=0.4.6 in c:\\users\\priyayadav\\appdata\\local\\programs\\python\\python39\\lib\\site-packages (from pyasn1-modules>=0.2.1->google-auth<2,>=1.6.3->tensorboard->keras-tuner) (0.4.8)\n",
      "Requirement already satisfied: oauthlib>=3.0.0 in c:\\users\\priyayadav\\appdata\\local\\programs\\python\\python39\\lib\\site-packages (from requests-oauthlib>=0.7.0->google-auth-oauthlib<0.5,>=0.4.1->tensorboard->keras-tuner) (3.1.1)\n",
      "Note: you may need to restart the kernel to use updated packages.\n"
     ]
    },
    {
     "name": "stderr",
     "output_type": "stream",
     "text": [
      "WARNING: You are using pip version 21.1.2; however, version 21.2.4 is available.\n",
      "You should consider upgrading via the 'c:\\users\\priyayadav\\appdata\\local\\programs\\python\\python39\\python.exe -m pip install --upgrade pip' command.\n"
     ]
    }
   ],
   "source": [
    "pip install keras-tuner"
   ]
  },
  {
   "cell_type": "code",
   "execution_count": 15,
   "metadata": {
    "colab": {
     "base_uri": "https://localhost:8080/"
    },
    "id": "1LTbFgaVVJDH",
    "outputId": "3c865777-a1d0-4de1-eb57-a8b4c17b7fff"
   },
   "outputs": [],
   "source": [
    "from keras_tuner import RandomSearch\n",
    "from keras_tuner.engine.hyperparameters import HyperParameters"
   ]
  },
  {
   "cell_type": "code",
   "execution_count": 16,
   "metadata": {
    "id": "0Fff-xFsVSjw"
   },
   "outputs": [],
   "source": [
    "tuner_search=RandomSearch(build_model,\n",
    "                          objective='val_accuracy',\n",
    "                          max_trials=5,directory='output',project_name=\"Mnist Fashion\")"
   ]
  },
  {
   "cell_type": "code",
   "execution_count": 17,
   "metadata": {
    "colab": {
     "base_uri": "https://localhost:8080/"
    },
    "id": "OyINBMOAVazE",
    "outputId": "ed2d7345-d869-45ed-bf90-1eace98c7271",
    "scrolled": true
   },
   "outputs": [
    {
     "name": "stdout",
     "output_type": "stream",
     "text": [
      "Trial 5 Complete [00h 07m 02s]\n",
      "val_accuracy: 0.9158333539962769\n",
      "\n",
      "Best val_accuracy So Far: 0.9158333539962769\n",
      "Total elapsed time: 00h 22m 02s\n",
      "INFO:tensorflow:Oracle triggered exit\n"
     ]
    }
   ],
   "source": [
    "tuner_search.search(train_images,train_labels,epochs=3,validation_split=0.1)"
   ]
  },
  {
   "cell_type": "code",
   "execution_count": 19,
   "metadata": {
    "id": "3Pdb8DK4VmoU"
   },
   "outputs": [],
   "source": [
    "model=tuner_search.get_best_models(num_models=1)[0]"
   ]
  },
  {
   "cell_type": "code",
   "execution_count": 20,
   "metadata": {},
   "outputs": [
    {
     "name": "stdout",
     "output_type": "stream",
     "text": [
      "Model: \"sequential\"\n",
      "_________________________________________________________________\n",
      "Layer (type)                 Output Shape              Param #   \n",
      "=================================================================\n",
      "conv2d (Conv2D)              (None, 26, 26, 80)        800       \n",
      "_________________________________________________________________\n",
      "conv2d_1 (Conv2D)            (None, 22, 22, 48)        96048     \n",
      "_________________________________________________________________\n",
      "flatten (Flatten)            (None, 23232)             0         \n",
      "_________________________________________________________________\n",
      "dense (Dense)                (None, 80)                1858640   \n",
      "_________________________________________________________________\n",
      "dense_1 (Dense)              (None, 10)                810       \n",
      "=================================================================\n",
      "Total params: 1,956,298\n",
      "Trainable params: 1,956,298\n",
      "Non-trainable params: 0\n",
      "_________________________________________________________________\n"
     ]
    }
   ],
   "source": [
    "model.summary()"
   ]
  },
  {
   "cell_type": "code",
   "execution_count": 21,
   "metadata": {
    "colab": {
     "base_uri": "https://localhost:8080/"
    },
    "id": "u6O6MFQwXCxH",
    "outputId": "1b865d59-629d-470b-fdee-245dbd150bfe"
   },
   "outputs": [
    {
     "name": "stdout",
     "output_type": "stream",
     "text": [
      "Epoch 1/10\n",
      "1875/1875 [==============================] - 150s 80ms/step - loss: 0.1472 - accuracy: 0.9463 - val_loss: 0.2506 - val_accuracy: 0.9160\n",
      "Epoch 2/10\n",
      "1875/1875 [==============================] - 154s 82ms/step - loss: 0.1033 - accuracy: 0.9614 - val_loss: 0.2695 - val_accuracy: 0.9156\n",
      "Epoch 3/10\n",
      "1875/1875 [==============================] - 170s 91ms/step - loss: 0.0739 - accuracy: 0.9720 - val_loss: 0.3514 - val_accuracy: 0.9132\n",
      "Epoch 4/10\n",
      "1875/1875 [==============================] - 196s 104ms/step - loss: 0.0545 - accuracy: 0.9793 - val_loss: 0.3882 - val_accuracy: 0.9070\n",
      "Epoch 5/10\n",
      "1875/1875 [==============================] - 201s 107ms/step - loss: 0.0414 - accuracy: 0.9848 - val_loss: 0.4202 - val_accuracy: 0.9145\n",
      "Epoch 6/10\n",
      "1875/1875 [==============================] - 189s 101ms/step - loss: 0.0325 - accuracy: 0.9885 - val_loss: 0.5120 - val_accuracy: 0.9110\n",
      "Epoch 7/10\n",
      "1875/1875 [==============================] - 186s 99ms/step - loss: 0.0269 - accuracy: 0.9905 - val_loss: 0.5357 - val_accuracy: 0.9100\n",
      "Epoch 8/10\n",
      "1875/1875 [==============================] - 190s 102ms/step - loss: 0.0233 - accuracy: 0.9920 - val_loss: 0.5539 - val_accuracy: 0.9102\n",
      "Epoch 9/10\n",
      "1875/1875 [==============================] - 195s 104ms/step - loss: 0.0211 - accuracy: 0.9927 - val_loss: 0.6555 - val_accuracy: 0.9110\n",
      "Epoch 10/10\n",
      "1875/1875 [==============================] - 195s 104ms/step - loss: 0.0212 - accuracy: 0.9925 - val_loss: 0.6954 - val_accuracy: 0.9105\n"
     ]
    },
    {
     "data": {
      "text/plain": [
       "<tensorflow.python.keras.callbacks.History at 0x1f290b03580>"
      ]
     },
     "execution_count": 21,
     "metadata": {},
     "output_type": "execute_result"
    }
   ],
   "source": [
    "# model.fit(train_images, train_labels, epochs=10, validation_split=0.2, initial_epoch=5)\n",
    "\n",
    "model.fit(train_images, train_labels, epochs=10, validation_data=(test_images, test_labels))"
   ]
  },
  {
   "cell_type": "code",
   "execution_count": 22,
   "metadata": {
    "colab": {
     "base_uri": "https://localhost:8080/"
    },
    "id": "71IMVifOXF4g",
    "outputId": "0385b4a0-9775-446f-ef61-7bc3b998f834"
   },
   "outputs": [
    {
     "name": "stdout",
     "output_type": "stream",
     "text": [
      "313/313 - 4s - loss: 0.6954 - accuracy: 0.9105\n"
     ]
    }
   ],
   "source": [
    "test_loss, test_acc = model.evaluate(test_images,  test_labels, verbose=2)"
   ]
  },
  {
   "cell_type": "code",
   "execution_count": 26,
   "metadata": {
    "id": "Fr2eERrdXbD_"
   },
   "outputs": [],
   "source": []
  },
  {
   "cell_type": "code",
   "execution_count": 30,
   "metadata": {
    "id": "WVioq4XvXuyf"
   },
   "outputs": [],
   "source": []
  },
  {
   "cell_type": "code",
   "execution_count": null,
   "metadata": {
    "id": "feAQh071X2j-"
   },
   "outputs": [],
   "source": []
  }
 ],
 "metadata": {
  "accelerator": "GPU",
  "colab": {
   "name": "model.ipynb",
   "provenance": []
  },
  "kernelspec": {
   "display_name": "Python 3",
   "language": "python",
   "name": "python3"
  },
  "language_info": {
   "codemirror_mode": {
    "name": "ipython",
    "version": 3
   },
   "file_extension": ".py",
   "mimetype": "text/x-python",
   "name": "python",
   "nbconvert_exporter": "python",
   "pygments_lexer": "ipython3",
   "version": "3.9.0"
  }
 },
 "nbformat": 4,
 "nbformat_minor": 1
}
